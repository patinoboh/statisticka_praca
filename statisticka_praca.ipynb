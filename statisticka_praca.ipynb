{
 "cells": [
  {
   "cell_type": "markdown",
   "metadata": {},
   "source": [
    "# Štatistická práca\n",
    "Patrik Broček\n",
    "\n",
    "## Úvod\n",
    "\n",
    "V mojej štatistickej práci budem analyzovať dáta o nakupovaní v supermarketoch získané z : https://www.kaggle.com/datasets/mehmettahiraslan/customer-shopping-dataset. Dáta však **nie sú plne realistické**, pretože pre každý jednotlivý **nákup** je v datasete uvedená iba **jedna zakúpená položka**, jej množstvo a cena. Z tohto dôvodu budem celý čas uvažovať len svet v ktorom sa dá v obchode kúpiť iba jedna položka a všetky závery ktoré odvodím budú platné len v pod touto podmienkou.\n"
   ]
  },
  {
   "cell_type": "code",
   "execution_count": 32,
   "metadata": {},
   "outputs": [
    {
     "name": "stdout",
     "output_type": "stream",
     "text": [
      "   gender  age   category payment_method     total\n",
      "0  Female   28   Clothing           Card   7502.00\n",
      "1    Male   21      Shoes           Card   5401.53\n",
      "2    Male   20   Clothing           Cash    300.08\n",
      "3  Female   66      Shoes           Card  15004.25\n",
      "4  Female   49  Cosmetics           Cash     40.66\n"
     ]
    }
   ],
   "source": [
    "import pandas as pd\n",
    "import numpy as np\n",
    "import matplotlib.pyplot as plt\n",
    "from scipy import stats\n",
    "from prettytable import PrettyTable\n",
    "\n",
    "data = pd.read_csv(\"dataset/supermarket/archive/customer_shopping_data_parsed.csv\")\n",
    "print(data.head())"
   ]
  },
  {
   "cell_type": "markdown",
   "metadata": {},
   "source": [
    "## Ženy míňajú na nákupoch viac ako muži\n",
    "\n",
    "Nemám potuchy čo s tým, ale šak nejak to skúsim nehehe"
   ]
  },
  {
   "cell_type": "code",
   "execution_count": 33,
   "metadata": {},
   "outputs": [],
   "source": [
    "males = data[data[\"gender\"] == \"Male\"]\n",
    "females = data[data[\"gender\"] == \"Female\"]"
   ]
  },
  {
   "cell_type": "code",
   "execution_count": 34,
   "metadata": {},
   "outputs": [
    {
     "name": "stdout",
     "output_type": "stream",
     "text": [
      "+---------+--------------------+-------------------+------+--------+--------+--------------------+---------+--------+\n",
      "|  count  |        mean        |        std        | min  |  25%   |  50%   |        75%         |   max   | gender |\n",
      "+---------+--------------------+-------------------+------+--------+--------+--------------------+---------+--------+\n",
      "| 39975.0 | 2534.0502371482175 | 4216.352328763888 | 5.23 | 130.75 | 600.17 | 2700.7200000000003 | 26250.0 |  male  |\n",
      "| 39975.0 | 2498.821610006254  | 4187.396113572586 | 5.23 | 130.75 | 600.17 | 2700.7200000000003 | 26250.0 | female |\n",
      "+---------+--------------------+-------------------+------+--------+--------+--------------------+---------+--------+\n"
     ]
    },
    {
     "data": {
      "image/png": "[encoded data removed]",
      "text/plain": [
       "<Figure size 640x480 with 1 Axes>"
      ]
     },
     "metadata": {},
     "output_type": "display_data"
    }
   ],
   "source": [
    "# Graph\n",
    "bins = np.linspace(data[\"total\"].min(), data[\"total\"].max(), 50)\n",
    "plt.hist([males[\"total\"], females[\"total\"]], bins, label=[\"male spendings\", \"female spendings\"])\n",
    "plt.legend(loc='upper right')\n",
    "\n",
    "# Table\n",
    "table = PrettyTable(); table.field_names = males[\"total\"].describe().index\n",
    "table.add_row(males[\"total\"].describe().values)\n",
    "table.add_row(females[\"total\"].describe().values)\n",
    "table.add_column(\"gender\", [\"male\", \"female\"])\n",
    "print(table)"
   ]
  },
  {
   "cell_type": "markdown",
   "metadata": {},
   "source": [
    "Z histogramu a aj z tabuľky to zatiaľ vyzerá, že by sme hypotézu mohli ľahko vyvrátiť. Zároveň však histogram vyzerá, že dáta s ktorými pracujem nie sú normálne distribuované. Toto ešte overím pomocou knižnice : <br>\n",
    "\n",
    "$ H_0 $  Dáta sú normálne distribuované <br>\n",
    "$ H_1 $  Dáta nie sú normálne distribuované <br>\n",
    "$ \\alpha = 0.05 $  "
   ]
  },
  {
   "cell_type": "code",
   "execution_count": 35,
   "metadata": {},
   "outputs": [
    {
     "name": "stdout",
     "output_type": "stream",
     "text": [
      "p value is :  0.0\n"
     ]
    }
   ],
   "source": [
    "_, p = stats.normaltest(data[\"total\"])\n",
    "print(\"p value is : \", p)"
   ]
  },
  {
   "cell_type": "markdown",
   "metadata": {},
   "source": [
    "$ p $ hodnota je oveľa menšia ako $ \\alpha $ takže nulovú hypotézu môžem zamietnuť. Dáta teda nie sú normálne rozdelené a tak budem musieť použiť neparametrický test."
   ]
  },
  {
   "cell_type": "markdown",
   "metadata": {},
   "source": [
    "Aby som zistil, či dáta pochádzajú z rovnakého rozdelenia, vykonám [U-test](https://en.wikipedia.org/wiki/Mann%E2%80%93Whitney_U_test). Pre oba testy mi budú platiť nasledovné hypotézy : <br>\n",
    "\n",
    "$ H_0 $ : Muži a ženy utrácajú v obchode rovnako <br>\n",
    "$ H_1 $ : Ženy utrácajú v obchode viac <br>\n",
    "$ \\alpha = 0.05 $"
   ]
  },
  {
   "cell_type": "markdown",
   "metadata": {},
   "source": [
    "### [U-test](https://en.wikipedia.org/wiki/Mann%E2%80%93Whitney_U_test)"
   ]
  },
  {
   "cell_type": "code",
   "execution_count": 36,
   "metadata": {},
   "outputs": [
    {
     "name": "stdout",
     "output_type": "stream",
     "text": [
      "p_value:  0.6378679368451287\n"
     ]
    }
   ],
   "source": [
    "_, p_value = stats.mannwhitneyu(males[\"total\"], females[\"total\"])\n",
    "print(\"p_value: \", p_value)"
   ]
  },
  {
   "cell_type": "markdown",
   "metadata": {},
   "source": [
    "$ p $ hodnota je podľa očakávania vyššia ako $ \\alpha $ a tak nulovú hypotézu zamietnuť nemôžem."
   ]
  },
  {
   "cell_type": "markdown",
   "metadata": {},
   "source": [
    "### [Median test](https://en.wikipedia.org/wiki/Median_test)"
   ]
  },
  {
   "cell_type": "markdown",
   "metadata": {},
   "source": [
    "Podľa očakávania je $ p $ hodnota vyššia ako požadovaná $ \\alpha $ hodnota a tak nemôžem zamietnuť nulovú hypotézu. Týmto som zistil, že dáta útrat mužov a žien pravdepodobne pochádzajú z rovnakej distribúcie. Skúsim vykonať ešte mediánový test, ktorým zistím, či pochádzajú z distribúcií s rovnakým mediánom."
   ]
  },
  {
   "cell_type": "code",
   "execution_count": 37,
   "metadata": {},
   "outputs": [
    {
     "name": "stdout",
     "output_type": "stream",
     "text": [
      "p value is :  0.7182381769504835\n"
     ]
    }
   ],
   "source": [
    "result = stats.median_test(males[\"total\"], females[\"total\"])\n",
    "print(\"p value is : \", result.pvalue)"
   ]
  },
  {
   "cell_type": "markdown",
   "metadata": {},
   "source": [
    "Aj podľa tohto testu nemôžeme zamietnuť nulovú hypotézu a teda môžem vyvodiť záver, že muží aj ženy utrácajú v obchode rovnako."
   ]
  },
  {
   "cell_type": "markdown",
   "metadata": {},
   "source": [
    "# Mladí ľudia nakupujú kartou viac ako starší"
   ]
  },
  {
   "cell_type": "code",
   "execution_count": 38,
   "metadata": {},
   "outputs": [
    {
     "data": {
      "text/plain": [
       "count    79950.000000\n",
       "mean        43.455047\n",
       "std         15.000391\n",
       "min         18.000000\n",
       "25%         30.000000\n",
       "50%         43.000000\n",
       "75%         56.000000\n",
       "max         69.000000\n",
       "Name: age, dtype: float64"
      ]
     },
     "execution_count": 38,
     "metadata": {},
     "output_type": "execute_result"
    },
    {
     "data": {
      "image/png": "[encoded data removed]",
      "text/plain": [
       "<Figure size 640x480 with 1 Axes>"
      ]
     },
     "metadata": {},
     "output_type": "display_data"
    }
   ],
   "source": [
    "plt.hist(data[\"age\"])\n",
    "data[\"age\"].describe()"
   ]
  },
  {
   "cell_type": "code",
   "execution_count": 39,
   "metadata": {},
   "outputs": [
    {
     "data": {
      "text/plain": [
       "(array([44144.,     0.,     0.,     0.,     0.,     0.,     0.,     0.,\n",
       "            0., 35806.]),\n",
       " array([0. , 0.1, 0.2, 0.3, 0.4, 0.5, 0.6, 0.7, 0.8, 0.9, 1. ]),\n",
       " <BarContainer object of 10 artists>)"
      ]
     },
     "execution_count": 39,
     "metadata": {},
     "output_type": "execute_result"
    },
    {
     "data": {
      "image/png": "[encoded data removed]",
      "text/plain": [
       "<Figure size 640x480 with 1 Axes>"
      ]
     },
     "metadata": {},
     "output_type": "display_data"
    }
   ],
   "source": [
    "plt.hist(data[\"payment_method\"])"
   ]
  },
  {
   "cell_type": "code",
   "execution_count": 40,
   "metadata": {},
   "outputs": [
    {
     "name": "stdout",
     "output_type": "stream",
     "text": [
      "+---------+-------------------+--------------------+------+------+------+------+------+----------------+\n",
      "|  count  |        mean       |        std         | min  | 25%  | 50%  | 75%  | max  | payment_method |\n",
      "+---------+-------------------+--------------------+------+------+------+------+------+----------------+\n",
      "| 44144.0 | 43.46830826386372 | 14.982816172093813 | 18.0 | 30.0 | 43.0 | 56.0 | 69.0 |      card      |\n",
      "| 35806.0 | 43.43869742501257 | 15.022222463327042 | 18.0 | 30.0 | 43.0 | 56.0 | 69.0 |      cash      |\n",
      "+---------+-------------------+--------------------+------+------+------+------+------+----------------+\n"
     ]
    },
    {
     "data": {
      "text/plain": [
       "<matplotlib.legend.Legend at 0x7f705900f4f0>"
      ]
     },
     "execution_count": 40,
     "metadata": {},
     "output_type": "execute_result"
    },
    {
     "data": {
      "image/png": "[encoded data removed]",
      "text/plain": [
       "<Figure size 640x480 with 1 Axes>"
      ]
     },
     "metadata": {},
     "output_type": "display_data"
    }
   ],
   "source": [
    "card = data[data[\"payment_method\"] == \"Card\"]\n",
    "cash = data[data[\"payment_method\"] == \"Cash\"]\n",
    "\n",
    "# Table\n",
    "table = PrettyTable(); table.field_names = card[\"age\"].describe().index\n",
    "table.add_row(card[\"age\"].describe().values)\n",
    "table.add_row(cash[\"age\"].describe().values)\n",
    "table.add_column(\"payment_method\", [\"card\", \"cash\"])\n",
    "print(table)\n",
    "\n",
    "# Graph\n",
    "bins = np.linspace(data[\"age\"].min(), data[\"age\"].max(), 30)\n",
    "plt.hist([card[\"age\"], cash[\"age\"]], bins, label=[\"card\", \"cash\"])\n",
    "plt.legend(loc='upper right')\n"
   ]
  },
  {
   "cell_type": "markdown",
   "metadata": {},
   "source": [
    "Z dát je jasne vidno, že platba kartou je populárnejšia ako platba v hotovosti, avšak okrem toho vyzerjú byť dáta rozdelené takmer identicky."
   ]
  },
  {
   "cell_type": "code",
   "execution_count": 41,
   "metadata": {},
   "outputs": [
    {
     "ename": "AttributeError",
     "evalue": "'numpy.ndarray' object has no attribute 'append'",
     "output_type": "error",
     "traceback": [
      "\u001b[0;31m---------------------------------------------------------------------------\u001b[0m",
      "\u001b[0;31mAttributeError\u001b[0m                            Traceback (most recent call last)",
      "\u001b[1;32m/home/patrik/Documents/past/statisticka_praca/statisticka_praca.ipynb Cell 22\u001b[0m line \u001b[0;36m4\n\u001b[1;32m      <a href='vscode-notebook-cell:/home/patrik/Documents/past/statisticka_praca/statisticka_praca.ipynb#X31sZmlsZQ%3D%3D?line=0'>1</a>\u001b[0m \u001b[39mfrom\u001b[39;00m \u001b[39mages\u001b[39;00m \u001b[39mimport\u001b[39;00m categorize_ages\n\u001b[1;32m      <a href='vscode-notebook-cell:/home/patrik/Documents/past/statisticka_praca/statisticka_praca.ipynb#X31sZmlsZQ%3D%3D?line=2'>3</a>\u001b[0m interval \u001b[39m=\u001b[39m np\u001b[39m.\u001b[39mlinspace(data[\u001b[39m\"\u001b[39m\u001b[39mage\u001b[39m\u001b[39m\"\u001b[39m]\u001b[39m.\u001b[39mmin(), data[\u001b[39m\"\u001b[39m\u001b[39mage\u001b[39m\u001b[39m\"\u001b[39m]\u001b[39m.\u001b[39mmax(), \u001b[39m3\u001b[39m)\n\u001b[0;32m----> <a href='vscode-notebook-cell:/home/patrik/Documents/past/statisticka_praca/statisticka_praca.ipynb#X31sZmlsZQ%3D%3D?line=3'>4</a>\u001b[0m data \u001b[39m=\u001b[39m categorize_ages(interval, data)\n\u001b[1;32m      <a href='vscode-notebook-cell:/home/patrik/Documents/past/statisticka_praca/statisticka_praca.ipynb#X31sZmlsZQ%3D%3D?line=4'>5</a>\u001b[0m \u001b[39mprint\u001b[39m(data[:\u001b[39m10\u001b[39m])\n",
      "File \u001b[0;32m~/Documents/past/statisticka_praca/ages.py:11\u001b[0m, in \u001b[0;36mcategorize_ages\u001b[0;34m(interval, data)\u001b[0m\n\u001b[1;32m      9\u001b[0m \u001b[39mdef\u001b[39;00m \u001b[39mcategorize_ages\u001b[39m(interval, data):\n\u001b[1;32m     10\u001b[0m     \u001b[39m# for each data categorize the age    \u001b[39;00m\n\u001b[0;32m---> 11\u001b[0m     interval\u001b[39m.\u001b[39mappend(np\u001b[39m.\u001b[39minf)\n\u001b[1;32m     12\u001b[0m     \u001b[39mfor\u001b[39;00m dato \u001b[39min\u001b[39;00m data:\n\u001b[1;32m     13\u001b[0m         dato \u001b[39m=\u001b[39m categorize_age(interval, dato)\n",
      "\u001b[0;31mAttributeError\u001b[0m: 'numpy.ndarray' object has no attribute 'append'"
     ]
    }
   ],
   "source": [
    "from ages import categorize_ages\n",
    "\n",
    "interval = np.linspace(data[\"age\"].min(), data[\"age\"].max(), 3)\n",
    "data = categorize_ages(interval, data)\n",
    "print(data[:10])"
   ]
  },
  {
   "cell_type": "markdown",
   "metadata": {},
   "source": []
  }
 ],
 "metadata": {
  "kernelspec": {
   "display_name": "Python 3",
   "language": "python",
   "name": "python3"
  },
  "language_info": {
   "codemirror_mode": {
    "name": "ipython",
    "version": 3
   },
   "file_extension": ".py",
   "mimetype": "text/x-python",
   "name": "python",
   "nbconvert_exporter": "python",
   "pygments_lexer": "ipython3",
   "version": "3.10.12"
  },
  "orig_nbformat": 4
 },
 "nbformat": 4,
 "nbformat_minor": 2
}
