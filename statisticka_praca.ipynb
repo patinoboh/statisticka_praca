{
 "cells": [
  {
   "cell_type": "markdown",
   "metadata": {},
   "source": [
    "# Štatistická práca\n",
    "Patrik Broček\n",
    "\n",
    "## Úvod\n",
    "\n",
    "V mojej štatistickej práci budem analyzovať dáta o nakupovaní v supermarketoch získané z : https://www.kaggle.com/datasets/mehmettahiraslan/customer-shopping-dataset. Dáta však **nie sú plne realistické**, pretože pre každý jednotlivý **nákup** je v datasete uvedená iba **jedna zakúpená položka**, jej množstvo a cena. Z tohto dôvodu budem celý čas uvažovať len svet v ktorom sa dá v obchode kúpiť iba jedna položka a všetky závery ktoré odvodím budú platné len v pod touto podmienkou.\n"
   ]
  },
  {
   "cell_type": "code",
   "execution_count": 196,
   "metadata": {},
   "outputs": [
    {
     "name": "stdout",
     "output_type": "stream",
     "text": [
      "   gender  age   category payment_method     total\n",
      "0  Female   28   Clothing    Credit Card   7502.00\n",
      "1    Male   21      Shoes     Debit Card   5401.53\n",
      "2    Male   20   Clothing           Cash    300.08\n",
      "3  Female   66      Shoes    Credit Card  15004.25\n",
      "4  Female   49  Cosmetics           Cash     40.66\n"
     ]
    }
   ],
   "source": [
    "import pandas as pd\n",
    "import numpy as np\n",
    "import matplotlib.pyplot as plt\n",
    "from scipy import stats\n",
    "from prettytable import PrettyTable\n",
    "\n",
    "data = pd.read_csv(\"dataset/supermarket/archive/customer_shopping_data_parsed.csv\")\n",
    "print(data.head())"
   ]
  },
  {
   "cell_type": "markdown",
   "metadata": {},
   "source": [
    "## Ženy míňajú na nákupoch viac ako muži\n",
    "\n",
    "Nemám potuchy čo s tým, ale šak nejak to skúsim nehehe"
   ]
  },
  {
   "cell_type": "code",
   "execution_count": 200,
   "metadata": {},
   "outputs": [],
   "source": [
    "males = data[data[\"gender\"] == \"Male\"]\n",
    "females = data[data[\"gender\"] == \"Female\"]"
   ]
  },
  {
   "cell_type": "code",
   "execution_count": 201,
   "metadata": {},
   "outputs": [
    {
     "name": "stdout",
     "output_type": "stream",
     "text": [
      "+---------+--------------------+-------------------+------+--------+--------+--------------------+---------+--------+\n",
      "|  count  |        mean        |        std        | min  |  25%   |  50%   |        75%         |   max   | gender |\n",
      "+---------+--------------------+-------------------+------+--------+--------+--------------------+---------+--------+\n",
      "| 39975.0 | 2534.0502371482175 | 4216.352328763888 | 5.23 | 130.75 | 600.17 | 2700.7200000000003 | 26250.0 |  male  |\n",
      "| 39975.0 | 2498.821610006254  | 4187.396113572586 | 5.23 | 130.75 | 600.17 | 2700.7200000000003 | 26250.0 | female |\n",
      "+---------+--------------------+-------------------+------+--------+--------+--------------------+---------+--------+\n"
     ]
    },
    {
     "data": {
      "image/png": "[encoded data removed]",
      "text/plain": [
       "<Figure size 640x480 with 1 Axes>"
      ]
     },
     "metadata": {},
     "output_type": "display_data"
    }
   ],
   "source": [
    "# Graph\n",
    "bins = np.linspace(data[\"total\"].min(), data[\"total\"].max(), 50)\n",
    "plt.hist([males[\"total\"], females[\"total\"]], bins, label=[\"male spendings\", \"female spendings\"])\n",
    "plt.legend(loc='upper right')\n",
    "\n",
    "# Table\n",
    "table = PrettyTable(); table.field_names = males[\"total\"].describe().index\n",
    "table.add_row(males[\"total\"].describe().values)\n",
    "table.add_row(females[\"total\"].describe().values)\n",
    "table.add_column(\"gender\", [\"male\", \"female\"])\n",
    "print(table)"
   ]
  },
  {
   "cell_type": "markdown",
   "metadata": {},
   "source": [
    "Z histogramu a aj z tabuľky to zatiaľ vyzerá, že by sme hypotézu mohli ľahko vyvrátiť. Zároveň však histogram vyzerá, že dáta s ktorými pracujem nie sú normálne distribuované. Toto ešte overím pomocou knižnice : <br>\n",
    "\n",
    "$ H_0 $  Dáta sú normálne distribuované <br>\n",
    "$ H_1 $  Dáta nie sú normálne distribuované <br>\n",
    "$ \\alpha = 0.05 $  "
   ]
  },
  {
   "cell_type": "code",
   "execution_count": 218,
   "metadata": {},
   "outputs": [
    {
     "name": "stdout",
     "output_type": "stream",
     "text": [
      "p value is :  0.0\n"
     ]
    }
   ],
   "source": [
    "_, p = stats.normaltest(data[\"total\"])\n",
    "print(\"p value is : \", p)"
   ]
  },
  {
   "cell_type": "markdown",
   "metadata": {},
   "source": [
    "$ p $ hodnota je oveľa menšia ako $ \\alpha $ takže nulovú hypotézu môžem zamietnuť. Dáta teda nie sú normálne rozdelené a tak budem musieť použiť neparametrický test."
   ]
  },
  {
   "cell_type": "markdown",
   "metadata": {},
   "source": [
    "Aby som zistil, či dáta pochádzajú z rovnakého rozdelenia, vykonám [U-test](https://en.wikipedia.org/wiki/Mann%E2%80%93Whitney_U_test). Pre oba testy mi budú platiť nasledovné hypotézy : <br>\n",
    "\n",
    "$ H_0 $ : Muži a ženy utrácajú v obchode rovnako <br>\n",
    "$ H_1 $ : Ženy utrácajú v obchode viac <br>\n",
    "$ \\alpha = 0.05 $"
   ]
  },
  {
   "cell_type": "markdown",
   "metadata": {},
   "source": [
    "### [U-test](https://en.wikipedia.org/wiki/Mann%E2%80%93Whitney_U_test)"
   ]
  },
  {
   "cell_type": "code",
   "execution_count": 219,
   "metadata": {},
   "outputs": [
    {
     "name": "stdout",
     "output_type": "stream",
     "text": [
      "p_value:  0.6378679368451287\n"
     ]
    }
   ],
   "source": [
    "_, p_value = stats.mannwhitneyu(males[\"total\"], females[\"total\"])\n",
    "print(\"p_value: \", p_value)"
   ]
  },
  {
   "cell_type": "markdown",
   "metadata": {},
   "source": [
    "$ p $ hodnota je podľa očakávania vyššia ako $ \\alpha $ a tak nulovú hypotézu zamietnuť nemôžem."
   ]
  },
  {
   "cell_type": "markdown",
   "metadata": {},
   "source": [
    "### [Median test](https://en.wikipedia.org/wiki/Median_test)"
   ]
  },
  {
   "cell_type": "markdown",
   "metadata": {},
   "source": [
    "Podľa očakávania je $ p $ hodnota vyššia ako požadovaná $ \\alpha $ hodnota a tak nemôžem zamietnuť nulovú hypotézu. Týmto som zistil, že dáta útrat mužov a žien pravdepodobne pochádzajú z rovnakej distribúcie. Skúsim vykonať ešte mediánový test, ktorým zistím, či pochádzajú z distribúcií s rovnakým mediánom."
   ]
  },
  {
   "cell_type": "code",
   "execution_count": 224,
   "metadata": {},
   "outputs": [
    {
     "name": "stdout",
     "output_type": "stream",
     "text": [
      "p value is :  0.7182381769504835\n"
     ]
    }
   ],
   "source": [
    "result = stats.median_test(males[\"total\"], females[\"total\"])\n",
    "print(\"p value is : \", result.pvalue)"
   ]
  },
  {
   "cell_type": "markdown",
   "metadata": {},
   "source": [
    "Aj podľa tohto testu nemôžeme zamietnuť nulovú hypotézu a teda môžem vyvodiť záver, že muží aj ženy utrácajú v obchode rovnako."
   ]
  },
  {
   "cell_type": "markdown",
   "metadata": {},
   "source": [
    "# Mladí ľudia nakupujú kartou viac ako starší"
   ]
  },
  {
   "cell_type": "code",
   "execution_count": 226,
   "metadata": {},
   "outputs": [
    {
     "data": {
      "text/plain": [
       "count    79950.000000\n",
       "mean        43.455047\n",
       "std         15.000391\n",
       "min         18.000000\n",
       "25%         30.000000\n",
       "50%         43.000000\n",
       "75%         56.000000\n",
       "max         69.000000\n",
       "Name: age, dtype: float64"
      ]
     },
     "execution_count": 226,
     "metadata": {},
     "output_type": "execute_result"
    },
    {
     "data": {
      "image/png": "[encoded data removed]",
      "text/plain": [
       "<Figure size 640x480 with 1 Axes>"
      ]
     },
     "metadata": {},
     "output_type": "display_data"
    }
   ],
   "source": [
    "plt.hist(data[\"age\"])\n",
    "data[\"age\"].describe()"
   ]
  },
  {
   "cell_type": "code",
   "execution_count": 228,
   "metadata": {},
   "outputs": [
    {
     "name": "stdout",
     "output_type": "stream",
     "text": [
      "count     79950\n",
      "unique        3\n",
      "top        Cash\n",
      "freq      35806\n",
      "Name: payment_method, dtype: object\n"
     ]
    },
    {
     "data": {
      "image/png": "[encoded data removed]",
      "text/plain": [
       "<Figure size 640x480 with 1 Axes>"
      ]
     },
     "metadata": {},
     "output_type": "display_data"
    }
   ],
   "source": [
    "plt.hist(data[\"payment_method\"])"
   ]
  }
 ],
 "metadata": {
  "kernelspec": {
   "display_name": "Python 3",
   "language": "python",
   "name": "python3"
  },
  "language_info": {
   "codemirror_mode": {
    "name": "ipython",
    "version": 3
   },
   "file_extension": ".py",
   "mimetype": "text/x-python",
   "name": "python",
   "nbconvert_exporter": "python",
   "pygments_lexer": "ipython3",
   "version": "3.10.12"
  },
  "orig_nbformat": 4
 },
 "nbformat": 4,
 "nbformat_minor": 2
}
