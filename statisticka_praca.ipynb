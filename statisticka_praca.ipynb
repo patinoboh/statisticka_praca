{
 "cells": [
  {
   "cell_type": "markdown",
   "metadata": {},
   "source": [
    "# Štatistická práca\n",
    "Patrik Broček\n",
    "\n",
    "## Úvod\n",
    "\n",
    "V mojej štatistickej práci budem analyzovať dáta o nakupovaní v supermarketoch získané z : https://www.kaggle.com/datasets/mehmettahiraslan/customer-shopping-dataset. Dáta však **nie sú plne realistické**, pretože pre každý jednotlivý **nákup** je v datasete uvedená iba **jedna zakúpená položka**, jej množstvo a cena. Z tohto dôvodu budem celý čas uvažovať len svet v ktorom sa dá v obchode kúpiť iba jedna položka a všetky závery ktoré odvodím budú platné len v pod touto podmienkou.\n"
   ]
  },
  {
   "cell_type": "code",
   "execution_count": 33,
   "metadata": {},
   "outputs": [
    {
     "name": "stdout",
     "output_type": "stream",
     "text": [
      "   gender  age   category payment_method     total\n",
      "0  Female   28   Clothing           Card   7502.00\n",
      "1    Male   21      Shoes           Card   5401.53\n",
      "2    Male   20   Clothing           Cash    300.08\n",
      "3  Female   66      Shoes           Card  15004.25\n",
      "4  Female   49  Cosmetics           Cash     40.66\n"
     ]
    }
   ],
   "source": [
    "import pandas as pd\n",
    "import numpy as np\n",
    "import matplotlib.pyplot as plt\n",
    "from scipy import stats\n",
    "from prettytable import PrettyTable\n",
    "\n",
    "data = pd.read_csv(\"dataset/supermarket/archive/customer_shopping_data_parsed.csv\")\n",
    "print(data.head())"
   ]
  },
  {
   "cell_type": "markdown",
   "metadata": {},
   "source": [
    "## Ženy míňajú na nákupoch viac ako muži\n",
    "\n",
    "Nemám potuchy čo s tým, ale šak nejak to skúsim nehehe"
   ]
  },
  {
   "cell_type": "code",
   "execution_count": 34,
   "metadata": {},
   "outputs": [],
   "source": [
    "males = data[data[\"gender\"] == \"Male\"]\n",
    "females = data[data[\"gender\"] == \"Female\"]"
   ]
  },
  {
   "cell_type": "code",
   "execution_count": 35,
   "metadata": {},
   "outputs": [
    {
     "name": "stdout",
     "output_type": "stream",
     "text": [
      "+---------+--------------------+-------------------+------+--------+--------+--------------------+---------+--------+\n",
      "|  count  |        mean        |        std        | min  |  25%   |  50%   |        75%         |   max   | gender |\n",
      "+---------+--------------------+-------------------+------+--------+--------+--------------------+---------+--------+\n",
      "| 39975.0 | 2534.0502371482175 | 4216.352328763888 | 5.23 | 130.75 | 600.17 | 2700.7200000000003 | 26250.0 |  male  |\n",
      "| 39975.0 | 2498.821610006254  | 4187.396113572586 | 5.23 | 130.75 | 600.17 | 2700.7200000000003 | 26250.0 | female |\n",
      "+---------+--------------------+-------------------+------+--------+--------+--------------------+---------+--------+\n"
     ]
    },
    {
     "data": {
      "image/png": "[encoded data removed]",
      "text/plain": [
       "<Figure size 640x480 with 1 Axes>"
      ]
     },
     "metadata": {},
     "output_type": "display_data"
    }
   ],
   "source": [
    "# Graph\n",
    "bins = np.linspace(data[\"total\"].min(), data[\"total\"].max(), 50)\n",
    "plt.hist([males[\"total\"], females[\"total\"]], bins, label=[\"male spendings\", \"female spendings\"])\n",
    "plt.legend(loc='upper right')\n",
    "\n",
    "# Table\n",
    "table = PrettyTable(); table.field_names = males[\"total\"].describe().index\n",
    "table.add_row(males[\"total\"].describe().values)\n",
    "table.add_row(females[\"total\"].describe().values)\n",
    "table.add_column(\"gender\", [\"male\", \"female\"])\n",
    "print(table)"
   ]
  },
  {
   "cell_type": "markdown",
   "metadata": {},
   "source": [
    "Z histogramu a aj z tabuľky to zatiaľ vyzerá, že by sme hypotézu mohli ľahko vyvrátiť. Zároveň však histogram vyzerá, že dáta s ktorými pracujem nie sú normálne distribuované. Toto ešte overím pomocou knižnice : <br>\n",
    "\n",
    "$ H_0 $  Dáta sú normálne distribuované <br>\n",
    "$ H_1 $  Dáta nie sú normálne distribuované <br>\n",
    "$ \\alpha = 0.05 $  "
   ]
  },
  {
   "cell_type": "code",
   "execution_count": 36,
   "metadata": {},
   "outputs": [
    {
     "name": "stdout",
     "output_type": "stream",
     "text": [
      "p value is :  0.0\n"
     ]
    }
   ],
   "source": [
    "_, p = stats.normaltest(data[\"total\"])\n",
    "print(\"p value is : \", p)"
   ]
  },
  {
   "cell_type": "markdown",
   "metadata": {},
   "source": [
    "$ p $ hodnota je oveľa menšia ako $ \\alpha $ takže nulovú hypotézu môžem zamietnuť. Dáta teda nie sú normálne rozdelené a tak budem musieť použiť neparametrický test."
   ]
  },
  {
   "cell_type": "markdown",
   "metadata": {},
   "source": [
    "Aby som zistil, či dáta pochádzajú z rovnakého rozdelenia, vykonám [U-test](https://en.wikipedia.org/wiki/Mann%E2%80%93Whitney_U_test). Pre oba testy mi budú platiť nasledovné hypotézy : <br>\n",
    "\n",
    "$ H_0 $ : Muži a ženy utrácajú v obchode rovnako <br>\n",
    "$ H_1 $ : Ženy utrácajú v obchode viac <br>\n",
    "$ \\alpha = 0.05 $"
   ]
  },
  {
   "cell_type": "markdown",
   "metadata": {},
   "source": [
    "### [U-test](https://en.wikipedia.org/wiki/Mann%E2%80%93Whitney_U_test)"
   ]
  },
  {
   "cell_type": "code",
   "execution_count": 37,
   "metadata": {},
   "outputs": [
    {
     "name": "stdout",
     "output_type": "stream",
     "text": [
      "p_value:  0.6378679368451287\n"
     ]
    }
   ],
   "source": [
    "_, p_value = stats.mannwhitneyu(males[\"total\"], females[\"total\"])\n",
    "print(\"p_value: \", p_value)"
   ]
  },
  {
   "cell_type": "markdown",
   "metadata": {},
   "source": [
    "$ p $ hodnota je podľa očakávania vyššia ako $ \\alpha $ a tak nulovú hypotézu zamietnuť nemôžem."
   ]
  },
  {
   "cell_type": "markdown",
   "metadata": {},
   "source": [
    "### [Median test](https://en.wikipedia.org/wiki/Median_test)"
   ]
  },
  {
   "cell_type": "markdown",
   "metadata": {},
   "source": [
    "Podľa očakávania je $ p $ hodnota vyššia ako požadovaná $ \\alpha $ hodnota a tak nemôžem zamietnuť nulovú hypotézu. Týmto som zistil, že dáta útrat mužov a žien pravdepodobne pochádzajú z rovnakej distribúcie. Skúsim vykonať ešte mediánový test, ktorým zistím, či pochádzajú z distribúcií s rovnakým mediánom."
   ]
  },
  {
   "cell_type": "code",
   "execution_count": 38,
   "metadata": {},
   "outputs": [
    {
     "name": "stdout",
     "output_type": "stream",
     "text": [
      "p value is :  0.7182381769504835\n"
     ]
    }
   ],
   "source": [
    "result = stats.median_test(males[\"total\"], females[\"total\"])\n",
    "print(\"p value is : \", result.pvalue)"
   ]
  },
  {
   "cell_type": "markdown",
   "metadata": {},
   "source": [
    "Aj podľa tohto testu nemôžeme zamietnuť nulovú hypotézu a teda môžem vyvodiť záver, že muží aj ženy utrácajú v obchode rovnako."
   ]
  },
  {
   "cell_type": "markdown",
   "metadata": {},
   "source": [
    "# Mladí ľudia nakupujú kartou viac ako starší"
   ]
  },
  {
   "cell_type": "markdown",
   "metadata": {},
   "source": [
    "V tejto hypotéze skúsim overiť, či existuje závislosť medzi medzi vekom a spôsobom platby. Konkrétne sa domnievam, že mladí ľudia používajú kartu viac ako starší ľudia. Vek mám v dátach zastúpený celkom uniformne a tak ďalej nijak upravovať nebudem"
   ]
  },
  {
   "cell_type": "code",
   "execution_count": 76,
   "metadata": {},
   "outputs": [
    {
     "data": {
      "image/png": "[encoded data removed]",
      "text/plain": [
       "<Figure size 640x480 with 1 Axes>"
      ]
     },
     "metadata": {},
     "output_type": "display_data"
    }
   ],
   "source": [
    "plt.hist(data[\"age\"])\n",
    "plt.show()"
   ]
  },
  {
   "cell_type": "code",
   "execution_count": 41,
   "metadata": {},
   "outputs": [
    {
     "name": "stdout",
     "output_type": "stream",
     "text": [
      "+---------+-------------------+--------------------+------+------+------+------+------+----------------+\n",
      "|  count  |        mean       |        std         | min  | 25%  | 50%  | 75%  | max  | payment_method |\n",
      "+---------+-------------------+--------------------+------+------+------+------+------+----------------+\n",
      "| 44144.0 | 43.46830826386372 | 14.982816172093813 | 18.0 | 30.0 | 43.0 | 56.0 | 69.0 |      card      |\n",
      "| 35806.0 | 43.43869742501257 | 15.022222463327042 | 18.0 | 30.0 | 43.0 | 56.0 | 69.0 |      cash      |\n",
      "+---------+-------------------+--------------------+------+------+------+------+------+----------------+\n"
     ]
    },
    {
     "data": {
      "text/plain": [
       "<matplotlib.legend.Legend at 0x7f23ecd7ff10>"
      ]
     },
     "execution_count": 41,
     "metadata": {},
     "output_type": "execute_result"
    },
    {
     "data": {
      "image/png": "[encoded data removed]",
      "text/plain": [
       "<Figure size 640x480 with 1 Axes>"
      ]
     },
     "metadata": {},
     "output_type": "display_data"
    }
   ],
   "source": [
    "card = data[data[\"payment_method\"] == \"Card\"]\n",
    "cash = data[data[\"payment_method\"] == \"Cash\"]\n",
    "\n",
    "# Table\n",
    "table = PrettyTable(); table.field_names = card[\"age\"].describe().index\n",
    "table.add_row(card[\"age\"].describe().values)\n",
    "table.add_row(cash[\"age\"].describe().values)\n",
    "table.add_column(\"payment_method\", [\"card\", \"cash\"])\n",
    "print(table)\n",
    "\n",
    "# Graph\n",
    "bins = np.linspace(data[\"age\"].min(), data[\"age\"].max(), 30)\n",
    "plt.hist([card[\"age\"], cash[\"age\"]], bins, label=[\"card\", \"cash\"])\n",
    "plt.legend(loc='upper right')\n"
   ]
  },
  {
   "cell_type": "markdown",
   "metadata": {},
   "source": [
    "Z dát je jasne vidno, že platba kartou je populárnejšia ako platba v hotovosti, avšak okrem toho vyzerjú byť dáta rozdelené takmer identicky. Histogram vyzerá tak, že by sme aj túto domnienku mali zamietnuť, pretože pre každú vekovú skupinu je platba kartou nepopulárna o takmer rovnakú hodnotu."
   ]
  },
  {
   "cell_type": "markdown",
   "metadata": {},
   "source": [
    "### Chi-kvadrát\n",
    "Aby som zistil, či sú dáta na sebe skutočne závislé použijem chi-kvadrát test nezávislosti. Ten porovnáva na základe početnosti a tak si dáta najskôr kategorizujem do skupín.\n",
    "\n",
    "\n",
    "Nulová hypotéza $  H_0 $ : Neexistuje závislosť medzi vekom a spôsobom platby (mladí nakupujú kartou rovnako veľa ako starší) <br>\n",
    "$ H_1 $ : Existuje závislosť medzi vekom a spôsobom platby <br>\n",
    "$ \\alpha = 5% $ <br>\n"
   ]
  },
  {
   "cell_type": "code",
   "execution_count": 55,
   "metadata": {},
   "outputs": [],
   "source": [
    "from ages import categorize_ages\n",
    "from statistics import median\n",
    "\n",
    "categories = [\"young\", \"young middle\", \"old middle\" ,\"old\"]\n",
    "interval = np.linspace(data[\"age\"].min(), data[\"age\"].max(), len(categories) + 1)\n",
    "new_data = categorize_ages(interval, data)"
   ]
  },
  {
   "cell_type": "code",
   "execution_count": 63,
   "metadata": {},
   "outputs": [
    {
     "name": "stdout",
     "output_type": "stream",
     "text": [
      "age\n",
      "18    27598\n",
      "35    26418\n",
      "52    25934\n",
      "Name: count, dtype: int64\n",
      "payment_method\n",
      "Card    44144\n",
      "Cash    35806\n",
      "Name: count, dtype: int64\n"
     ]
    }
   ],
   "source": [
    "# age_counts = new_data[\"age\"].value_counts()\n",
    "# payment_counts = new_data[\"payment_method\"].value_counts()\n",
    "# print(age_counts)\n",
    "# print(payment_counts)"
   ]
  },
  {
   "cell_type": "code",
   "execution_count": 70,
   "metadata": {},
   "outputs": [
    {
     "data": {
      "text/html": [
       "<div>\n",
       "<style scoped>\n",
       "    .dataframe tbody tr th:only-of-type {\n",
       "        vertical-align: middle;\n",
       "    }\n",
       "\n",
       "    .dataframe tbody tr th {\n",
       "        vertical-align: top;\n",
       "    }\n",
       "\n",
       "    .dataframe thead th {\n",
       "        text-align: right;\n",
       "    }\n",
       "</style>\n",
       "<table border=\"1\" class=\"dataframe\">\n",
       "  <thead>\n",
       "    <tr style=\"text-align: right;\">\n",
       "      <th>age</th>\n",
       "      <th>18</th>\n",
       "      <th>35</th>\n",
       "      <th>52</th>\n",
       "    </tr>\n",
       "    <tr>\n",
       "      <th>payment_method</th>\n",
       "      <th></th>\n",
       "      <th></th>\n",
       "      <th></th>\n",
       "    </tr>\n",
       "  </thead>\n",
       "  <tbody>\n",
       "    <tr>\n",
       "      <th>Card</th>\n",
       "      <td>15198</td>\n",
       "      <td>14624</td>\n",
       "      <td>14322</td>\n",
       "    </tr>\n",
       "    <tr>\n",
       "      <th>Cash</th>\n",
       "      <td>12400</td>\n",
       "      <td>11794</td>\n",
       "      <td>11612</td>\n",
       "    </tr>\n",
       "  </tbody>\n",
       "</table>\n",
       "</div>"
      ],
      "text/plain": [
       "age                18     35     52\n",
       "payment_method                     \n",
       "Card            15198  14624  14322\n",
       "Cash            12400  11794  11612"
      ]
     },
     "execution_count": 70,
     "metadata": {},
     "output_type": "execute_result"
    }
   ],
   "source": [
    "crosstab = pd.crosstab(new_data[\"payment_method\"], new_data[\"age\"])\n",
    "crosstab"
   ]
  },
  {
   "cell_type": "code",
   "execution_count": 79,
   "metadata": {},
   "outputs": [
    {
     "data": {
      "text/plain": [
       "Chi2ContingencyResult(statistic=0.45121086518228015, pvalue=0.7980329173339661, dof=2, expected_freq=array([[15238.10021263, 14586.56900563, 14319.33078174],\n",
       "       [12359.89978737, 11831.43099437, 11614.66921826]]))"
      ]
     },
     "execution_count": 79,
     "metadata": {},
     "output_type": "execute_result"
    }
   ],
   "source": [
    "output = stats.chi2_contingency(crosstab)\n",
    "output"
   ]
  },
  {
   "cell_type": "code",
   "execution_count": 45,
   "metadata": {},
   "outputs": [
    {
     "data": {
      "text/plain": [
       "43.0"
      ]
     },
     "execution_count": 45,
     "metadata": {},
     "output_type": "execute_result"
    }
   ],
   "source": [
    "median(data[\"age\"])"
   ]
  },
  {
   "cell_type": "code",
   "execution_count": 53,
   "metadata": {},
   "outputs": [
    {
     "data": {
      "text/plain": [
       "35806"
      ]
     },
     "execution_count": 53,
     "metadata": {},
     "output_type": "execute_result"
    }
   ],
   "source": [
    "# neviem = stats.chisquare(card[\"age\"], cash[\"age\"])"
   ]
  },
  {
   "cell_type": "markdown",
   "metadata": {},
   "source": []
  }
 ],
 "metadata": {
  "kernelspec": {
   "display_name": "Python 3",
   "language": "python",
   "name": "python3"
  },
  "language_info": {
   "codemirror_mode": {
    "name": "ipython",
    "version": 3
   },
   "file_extension": ".py",
   "mimetype": "text/x-python",
   "name": "python",
   "nbconvert_exporter": "python",
   "pygments_lexer": "ipython3",
   "version": "3.10.12"
  },
  "orig_nbformat": 4
 },
 "nbformat": 4,
 "nbformat_minor": 2
}
