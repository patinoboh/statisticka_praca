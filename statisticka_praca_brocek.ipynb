{
 "cells": [
  {
   "cell_type": "markdown",
   "metadata": {},
   "source": [
    "# Štatistická práca\n",
    "Patrik Broček\n",
    "\n",
    "## Úvod\n",
    "\n",
    "V mojej štatistickej práci budem analyzovať dáta o nakupovaní v supermarketoch získané z : https://www.kaggle.com/datasets/mehmettahiraslan/customer-shopping-dataset. Dáta však **nie sú plne realistické**, pretože pre každý jednotlivý **nákup** je v datasete uvedená iba **jedna zakúpená položka**, jej množstvo a cena. Z tohto dôvodu budem celý čas uvažovať len svet v ktorom sa dá v obchode kúpiť iba jedna položka a všetky závery ktoré odvodím budú platné len v pod touto podmienkou.\n"
   ]
  },
  {
   "cell_type": "code",
   "execution_count": 12,
   "metadata": {},
   "outputs": [
    {
     "name": "stdout",
     "output_type": "stream",
     "text": [
      "   gender  age   category payment_method     total\n",
      "0  Female   28   Clothing           Card   7502.00\n",
      "1    Male   21      Shoes           Card   5401.53\n",
      "2    Male   20   Clothing           Cash    300.08\n",
      "3  Female   66      Shoes           Card  15004.25\n",
      "4  Female   49  Cosmetics           Cash     40.66\n"
     ]
    }
   ],
   "source": [
    "import pandas as pd\n",
    "import numpy as np\n",
    "import matplotlib.pyplot as plt\n",
    "from scipy import stats\n",
    "from prettytable import PrettyTable\n",
    "\n",
    "data = pd.read_csv(\"dataset/supermarket/archive/customer_shopping_data_parsed.csv\")\n",
    "print(data.head())"
   ]
  },
  {
   "cell_type": "markdown",
   "metadata": {},
   "source": [
    "## Ženy míňajú na nákupoch viac ako muži\n",
    "\n",
    "Skúsim zistiť, či podľa mojich dát platí predsudok, že ženy nakupujú (v mojom prípade utrácajú) viac ako muži. V datasete mám dáta o pohlaví nakupujúcich a aj celkovú utratenú sumu. Vykonám test, ktorým zistím, či sú útraty žien inak rozdelené ako mužské a vyvodím záver."
   ]
  },
  {
   "cell_type": "code",
   "execution_count": 13,
   "metadata": {},
   "outputs": [],
   "source": [
    "males = data[data[\"gender\"] == \"Male\"]\n",
    "females = data[data[\"gender\"] == \"Female\"]"
   ]
  },
  {
   "cell_type": "code",
   "execution_count": 14,
   "metadata": {},
   "outputs": [
    {
     "name": "stdout",
     "output_type": "stream",
     "text": [
      "+---------+--------+--------+-----+-------+-------+--------+---------+--------+\n",
      "|  count  |  mean  |  std   | min |  25%  |  50%  |  75%   |   max   | gender |\n",
      "+---------+--------+--------+-----+-------+-------+--------+---------+--------+\n",
      "| 39975.0 | 2534.1 | 4216.4 | 5.2 | 130.8 | 600.2 | 2700.7 | 26250.0 |  male  |\n",
      "| 39975.0 | 2498.8 | 4187.4 | 5.2 | 130.8 | 600.2 | 2700.7 | 26250.0 | female |\n",
      "+---------+--------+--------+-----+-------+-------+--------+---------+--------+\n"
     ]
    },
    {
     "data": {
      "image/png": "[encoded data removed]",
      "text/plain": [
       "<Figure size 640x480 with 1 Axes>"
      ]
     },
     "metadata": {},
     "output_type": "display_data"
    }
   ],
   "source": [
    "# Graph\n",
    "bins = np.linspace(data[\"total\"].min(), data[\"total\"].max(), 50)\n",
    "plt.hist([males[\"total\"], females[\"total\"]], bins, label=[\"male spendings\", \"female spendings\"])\n",
    "plt.legend(loc='upper right'); plt.title(\"Total spending histogram\"); plt.xlabel(\"Total spendings\"); plt.ylabel(\"Count\")\n",
    "\n",
    "# Table\n",
    "table = PrettyTable(); table.field_names = males[\"total\"].describe().index\n",
    "table.add_row(males[\"total\"].describe().values.round(1))\n",
    "table.add_row(females[\"total\"].describe().values.round(1))\n",
    "table.add_column(\"gender\", [\"male\", \"female\"])\n",
    "print(table)"
   ]
  },
  {
   "cell_type": "markdown",
   "metadata": {},
   "source": [
    "Z histogramu a aj z tabuľky to zatiaľ vyzerá, že by sme hypotézu mohli ľahko vyvrátiť. Zároveň však histogram vyzerá tak, že hodnoty celkovej utratenej sumy nie sú normálne distribuované. Toto ešte overím : <br>\n",
    "\n",
    "$ H_0 $  Dáta sú normálne distribuované <br>\n",
    "$ H_1 $  Dáta nie sú normálne distribuované <br>\n",
    "$ \\alpha = 0.05 $  "
   ]
  },
  {
   "cell_type": "code",
   "execution_count": 15,
   "metadata": {},
   "outputs": [
    {
     "name": "stdout",
     "output_type": "stream",
     "text": [
      "p value is :  0.0\n"
     ]
    }
   ],
   "source": [
    "_, p = stats.normaltest(data[\"total\"])\n",
    "print(\"p value is : \", p)"
   ]
  },
  {
   "cell_type": "markdown",
   "metadata": {},
   "source": [
    "$ p $ hodnota je oveľa menšia ako $ \\alpha $ takže nulovú hypotézu môžem zamietnuť. Dáta teda nie sú normálne rozdelené a tak budem používať neparametrický test."
   ]
  },
  {
   "cell_type": "markdown",
   "metadata": {},
   "source": [
    "Aby som zistil, či dáta pre mužov a ženy pochádzajú z rovnakého rozdelenia, vykonám [U-test](https://en.wikipedia.org/wiki/Mann%E2%80%93Whitney_U_test) a median test. Pre oba testy mi budú platiť nasledovné hypotézy : <br>\n",
    "\n",
    "$ H_0 $ : Muži a ženy utrácajú v obchode rovnako <br>\n",
    "$ H_1 $ : Ženy utrácajú v obchode viac <br>\n",
    "$ \\alpha = 0.05 $"
   ]
  },
  {
   "cell_type": "markdown",
   "metadata": {},
   "source": [
    "### [U-test](https://en.wikipedia.org/wiki/Mann%E2%80%93Whitney_U_test)"
   ]
  },
  {
   "cell_type": "code",
   "execution_count": 16,
   "metadata": {},
   "outputs": [
    {
     "name": "stdout",
     "output_type": "stream",
     "text": [
      "p_value:  0.6379\n"
     ]
    }
   ],
   "source": [
    "_, p_value = stats.mannwhitneyu(males[\"total\"], females[\"total\"])\n",
    "print(\"p_value: \", p_value.round(4))"
   ]
  },
  {
   "cell_type": "markdown",
   "metadata": {},
   "source": [
    "$ p $ hodnota je podľa očakávania vyššia ako $ \\alpha $ a tak nulovú hypotézu zamietnuť nemôžem."
   ]
  },
  {
   "cell_type": "markdown",
   "metadata": {},
   "source": [
    "### [Median test](https://en.wikipedia.org/wiki/Median_test)"
   ]
  },
  {
   "cell_type": "markdown",
   "metadata": {},
   "source": [
    "Podľa očakávania je $ p $ hodnota vyššia ako požadovaná $ \\alpha $ hodnota a tak nemôžem zamietnuť nulovú hypotézu. Týmto som zistil, že dáta útrat mužov a žien pravdepodobne pochádzajú z rovnakej distribúcie. Skúsim vykonať ešte mediánový test, ktorým zistím, či pochádzajú z distribúcií s rovnakým mediánom."
   ]
  },
  {
   "cell_type": "code",
   "execution_count": 17,
   "metadata": {},
   "outputs": [
    {
     "name": "stdout",
     "output_type": "stream",
     "text": [
      "p value is :  0.7182\n"
     ]
    }
   ],
   "source": [
    "result = stats.median_test(males[\"total\"], females[\"total\"])\n",
    "print(\"p value is : \", result.pvalue.round(4))"
   ]
  },
  {
   "cell_type": "markdown",
   "metadata": {},
   "source": [
    "Aj podľa tohto testu nemôžeme zamietnuť nulovú hypotézu a teda môžem vyvodiť záver, že muží aj ženy utrácajú v obchode rovnako."
   ]
  },
  {
   "cell_type": "markdown",
   "metadata": {},
   "source": [
    "# Mladí ľudia nakupujú kartou viac ako starší"
   ]
  },
  {
   "cell_type": "markdown",
   "metadata": {},
   "source": [
    "V tejto hypotéze skúsim overiť, či existuje závislosť medzi medzi vekom a spôsobom platby. Konkrétne sa domnievam, že mladí ľudia používajú kartu viac ako starší ľudia. Vek mám v dátach zastúpený takmer uniformne a tak ďalej dáta nebudem spracúvať."
   ]
  },
  {
   "cell_type": "code",
   "execution_count": 18,
   "metadata": {},
   "outputs": [
    {
     "data": {
      "image/png": "[encoded data removed]",
      "text/plain": [
       "<Figure size 640x480 with 1 Axes>"
      ]
     },
     "metadata": {},
     "output_type": "display_data"
    }
   ],
   "source": [
    "plt.hist(data[\"age\"])\n",
    "plt.title(\"Age distribution\"); plt.xlabel(\"Age\"); plt.ylabel(\"Count\")\n",
    "plt.show()"
   ]
  },
  {
   "cell_type": "code",
   "execution_count": 19,
   "metadata": {},
   "outputs": [
    {
     "name": "stdout",
     "output_type": "stream",
     "text": [
      "+---------+-------+-------+------+------+------+------+------+----------------+\n",
      "|  count  |  mean |  std  | min  | 25%  | 50%  | 75%  | max  | payment_method |\n",
      "+---------+-------+-------+------+------+------+------+------+----------------+\n",
      "| 44144.0 | 43.47 | 14.98 | 18.0 | 30.0 | 43.0 | 56.0 | 69.0 |      card      |\n",
      "| 35806.0 | 43.44 | 15.02 | 18.0 | 30.0 | 43.0 | 56.0 | 69.0 |      cash      |\n",
      "+---------+-------+-------+------+------+------+------+------+----------------+\n"
     ]
    },
    {
     "data": {
      "image/png": "[encoded data removed]",
      "text/plain": [
       "<Figure size 640x480 with 1 Axes>"
      ]
     },
     "metadata": {},
     "output_type": "display_data"
    }
   ],
   "source": [
    "card = data[data[\"payment_method\"] == \"Card\"]\n",
    "cash = data[data[\"payment_method\"] == \"Cash\"]\n",
    "\n",
    "# Table\n",
    "table = PrettyTable(); table.field_names = card[\"age\"].describe().index\n",
    "table.add_row(card[\"age\"].describe().values.round(2))\n",
    "table.add_row(cash[\"age\"].describe().values.round(2))\n",
    "table.add_column(\"payment_method\", [\"card\", \"cash\"])\n",
    "print(table)\n",
    "\n",
    "# Graph\n",
    "bins = np.linspace(data[\"age\"].min(), data[\"age\"].max(), 30)\n",
    "plt.hist([card[\"age\"], cash[\"age\"]], bins, label=[\"card\", \"cash\"]); plt.xlabel(\"Age\"); plt.ylabel(\"Count\")\n",
    "plt.legend(loc='upper right'); plt.title(\"Age distribution by payment method\")\n",
    "plt.show()"
   ]
  },
  {
   "cell_type": "markdown",
   "metadata": {},
   "source": [
    "Z dát je jasne vidno, že platba kartou je populárnejšia ako platba v hotovosti, avšak okrem toho vyzerjú byť dáta rozdelené takmer identicky. Histogram vyzerá tak, že by sme aj túto domnienku mali zamietnuť, pretože pre každú vekovú skupinu je platba kartou nepopulárna o takmer rovnakú hodnotu, teda rozdelenie platieb kartou je len posunuté oproti platbám v hotovosti."
   ]
  },
  {
   "cell_type": "markdown",
   "metadata": {},
   "source": [
    "### Chi-kvadrát\n",
    "Aby som zistil, či sú dáta na sebe skutočne závislé použijem chi-kvadrát test nezávislosti. Ten porovnáva na základe početnosti a tak si dáta najskôr kategorizujem do skupín.\n",
    "\n",
    "\n",
    "Nulová hypotéza $  H_0 $ : Neexistuje závislosť medzi vekom a spôsobom platby (mladí nakupujú kartou rovnako veľa ako starší) <br>\n",
    "$ H_1 $ : Existuje závislosť medzi vekom a spôsobom platby <br>\n",
    "$ \\alpha = 0.05 $ <br>\n"
   ]
  },
  {
   "cell_type": "code",
   "execution_count": 20,
   "metadata": {},
   "outputs": [],
   "source": [
    "from ages import categorize_ages\n",
    "\n",
    "categories = [\"young\", \"young middle\", \"old middle\" ,\"old\"] # 4 categories\n",
    "interval = np.linspace(data[\"age\"].min(), data[\"age\"].max(), len(categories) + 1) # 4 intervals means 5 interval points\n",
    "categorized_data = categorize_ages(interval, data)"
   ]
  },
  {
   "cell_type": "code",
   "execution_count": 21,
   "metadata": {},
   "outputs": [
    {
     "data": {
      "text/html": [
       "<div>\n",
       "<style scoped>\n",
       "    .dataframe tbody tr th:only-of-type {\n",
       "        vertical-align: middle;\n",
       "    }\n",
       "\n",
       "    .dataframe tbody tr th {\n",
       "        vertical-align: top;\n",
       "    }\n",
       "\n",
       "    .dataframe thead th {\n",
       "        text-align: right;\n",
       "    }\n",
       "</style>\n",
       "<table border=\"1\" class=\"dataframe\">\n",
       "  <thead>\n",
       "    <tr style=\"text-align: right;\">\n",
       "      <th>age</th>\n",
       "      <th>18</th>\n",
       "      <th>31</th>\n",
       "      <th>44</th>\n",
       "      <th>57</th>\n",
       "    </tr>\n",
       "    <tr>\n",
       "      <th>payment_method</th>\n",
       "      <th></th>\n",
       "      <th></th>\n",
       "      <th></th>\n",
       "      <th></th>\n",
       "    </tr>\n",
       "  </thead>\n",
       "  <tbody>\n",
       "    <tr>\n",
       "      <th>Card</th>\n",
       "      <td>11057</td>\n",
       "      <td>11109</td>\n",
       "      <td>11036</td>\n",
       "      <td>10942</td>\n",
       "    </tr>\n",
       "    <tr>\n",
       "      <th>Cash</th>\n",
       "      <td>9044</td>\n",
       "      <td>9018</td>\n",
       "      <td>8823</td>\n",
       "      <td>8921</td>\n",
       "    </tr>\n",
       "  </tbody>\n",
       "</table>\n",
       "</div>"
      ],
      "text/plain": [
       "age                18     31     44     57\n",
       "payment_method                            \n",
       "Card            11057  11109  11036  10942\n",
       "Cash             9044   9018   8823   8921"
      ]
     },
     "execution_count": 21,
     "metadata": {},
     "output_type": "execute_result"
    }
   ],
   "source": [
    "crosstab = pd.crosstab(categorized_data[\"payment_method\"], categorized_data[\"age\"])\n",
    "crosstab # ages are in 4 categories, each column corresponds to interval from its value to the next value. Last interval goes to infinity"
   ]
  },
  {
   "cell_type": "code",
   "execution_count": 22,
   "metadata": {},
   "outputs": [
    {
     "name": "stdout",
     "output_type": "stream",
     "text": [
      "p value is :  0.6805\n"
     ]
    }
   ],
   "source": [
    "output = stats.chi2_contingency(crosstab)\n",
    "print(\"p value is : \", output.pvalue.round(4))"
   ]
  },
  {
   "cell_type": "markdown",
   "metadata": {},
   "source": [
    "$ p $ hodnota je väčšia ako $ \\alpha $ a teda nemôžem zamietnuť nulovú hypotézu. Výsledkom je, neexistuje závislosť medzi vekom a spôsobom platby a teda mladí používajú kartu rovnako veľa ako starší."
   ]
  },
  {
   "cell_type": "markdown",
   "metadata": {},
   "source": [
    "# Záver\n",
    "\n",
    "Na základe mojich dát a počiatočnej podmienky sa mi podarilo vyvodiť, že muži a ženy utrácajú v obchode rovnako. Ďalej som skúmal, či starší ľudia platia viac v hotovosti, čo sa mi podarilo zamietnuť."
   ]
  }
 ],
 "metadata": {
  "kernelspec": {
   "display_name": "Python 3",
   "language": "python",
   "name": "python3"
  },
  "language_info": {
   "codemirror_mode": {
    "name": "ipython",
    "version": 3
   },
   "file_extension": ".py",
   "mimetype": "text/x-python",
   "name": "python",
   "nbconvert_exporter": "python",
   "pygments_lexer": "ipython3",
   "version": "3.10.12"
  },
  "orig_nbformat": 4
 },
 "nbformat": 4,
 "nbformat_minor": 2
}
